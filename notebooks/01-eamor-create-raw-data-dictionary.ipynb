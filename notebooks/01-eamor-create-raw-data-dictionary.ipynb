{
 "cells": [
  {
   "cell_type": "markdown",
   "metadata": {},
   "source": [
    "# Create Raw Data Dictionary"
   ]
  },
  {
   "cell_type": "markdown",
   "metadata": {},
   "source": [
    "Our client did not give us any data dictionaries with our data, so we'll inspect the data files and get a summary of the columns and their dtypes just for our convenience further down the road. The datatype of the column is inferred from the first 100 rows of the data."
   ]
  },
  {
   "cell_type": "code",
   "execution_count": 1,
   "metadata": {
    "execution": {
     "iopub.execute_input": "2020-06-02T20:41:36.613318Z",
     "iopub.status.busy": "2020-06-02T20:41:36.613081Z",
     "iopub.status.idle": "2020-06-02T20:41:36.841293Z",
     "shell.execute_reply": "2020-06-02T20:41:36.840725Z",
     "shell.execute_reply.started": "2020-06-02T20:41:36.613292Z"
    }
   },
   "outputs": [],
   "source": [
    "# import libraries\n",
    "import os\n",
    "import pandas as pd\n",
    "from src.tools import data_information, CSVError"
   ]
  },
  {
   "cell_type": "code",
   "execution_count": 2,
   "metadata": {
    "execution": {
     "iopub.execute_input": "2020-06-02T20:41:36.842302Z",
     "iopub.status.busy": "2020-06-02T20:41:36.842148Z",
     "iopub.status.idle": "2020-06-02T20:41:36.845456Z",
     "shell.execute_reply": "2020-06-02T20:41:36.844764Z",
     "shell.execute_reply.started": "2020-06-02T20:41:36.842283Z"
    }
   },
   "outputs": [],
   "source": [
    "# get the filenames of all our raw data files\n",
    "data_dir = r\"../data/raw\"\n",
    "files_in_data_dir = os.listdir(data_dir)"
   ]
  },
  {
   "cell_type": "code",
   "execution_count": 3,
   "metadata": {
    "execution": {
     "iopub.execute_input": "2020-06-02T20:41:36.846731Z",
     "iopub.status.busy": "2020-06-02T20:41:36.846538Z",
     "iopub.status.idle": "2020-06-02T20:41:37.248414Z",
     "shell.execute_reply": "2020-06-02T20:41:37.246785Z",
     "shell.execute_reply.started": "2020-06-02T20:41:36.846710Z"
    }
   },
   "outputs": [],
   "source": [
    "# for each of the files retrieve the data information and put in list\n",
    "data_info = []\n",
    "for file in files_in_data_dir:\n",
    "    try:\n",
    "        info = data_information(os.path.join(data_dir, file))\n",
    "        info[\"file\"] = file\n",
    "        data_info.append(info)\n",
    "    except CSVError:\n",
    "        continue\n",
    "# concatenate into a single dataframe\n",
    "raw_data_dictionary = pd.concat(data_info)"
   ]
  },
  {
   "cell_type": "code",
   "execution_count": 4,
   "metadata": {
    "execution": {
     "iopub.execute_input": "2020-06-02T20:41:37.259343Z",
     "iopub.status.busy": "2020-06-02T20:41:37.259108Z",
     "iopub.status.idle": "2020-06-02T20:41:37.268473Z",
     "shell.execute_reply": "2020-06-02T20:41:37.267766Z",
     "shell.execute_reply.started": "2020-06-02T20:41:37.259318Z"
    }
   },
   "outputs": [],
   "source": [
    "# output the raw data dictionary\n",
    "raw_data_dictionary.to_csv(\"../docs/data_dictionaries/raw-data-dictionary.csv\")"
   ]
  },
  {
   "cell_type": "markdown",
   "metadata": {},
   "source": [
    "The resulting data dictionary can be found in at [../docs/data_dictionaries/raw-data-dictionary.csv](../docs/data_dictionaries/raw-data-dictionary.csv)"
   ]
  }
 ],
 "metadata": {
  "kernelspec": {
   "display_name": "Python [conda env:movie-industry]",
   "language": "python",
   "name": "conda-env-movie-industry-py"
  },
  "language_info": {
   "codemirror_mode": {
    "name": "ipython",
    "version": 3
   },
   "file_extension": ".py",
   "mimetype": "text/x-python",
   "name": "python",
   "nbconvert_exporter": "python",
   "pygments_lexer": "ipython3",
   "version": "3.8.3"
  },
  "widgets": {
   "application/vnd.jupyter.widget-state+json": {
    "state": {},
    "version_major": 2,
    "version_minor": 0
   }
  }
 },
 "nbformat": 4,
 "nbformat_minor": 4
}
