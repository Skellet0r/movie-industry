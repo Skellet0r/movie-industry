{
 "cells": [
  {
   "cell_type": "markdown",
   "metadata": {},
   "source": [
    "# Data Cleaning"
   ]
  },
  {
   "cell_type": "markdown",
   "metadata": {},
   "source": [
    "The following are the features of the movie industry we will be exploring\n",
    "along with the datasets that are needed to analyze them:\n",
    "\n",
    "- Genre: `imdb.title.basics.csv.bz2`\n",
    "- Runtime: `imdb.title.basics.csv.bz2`\n",
    "- Budget Allocation: `tn.movie_budgets.csv.bz2`\n",
    "- Release Window: `tn.movie_budgets.csv.bz2`, `tmdb.movies.csv.bz2`\n",
    "- Director: `imdb.title.crew.csv.bz2`, `imdb.name.basics.csv.bz2`"
   ]
  },
  {
   "cell_type": "markdown",
   "metadata": {},
   "source": [
    "Consolidated the list of datasets is:\n",
    "\n",
    "- `tn.movie_budgets.csv.bz2`\n",
    "- `tmdb.movies.csv.bz2`\n",
    "- `imdb.title.crew.csv.bz2`\n",
    "- `imdb.name.basics.csv.bz2`\n",
    "- `imdb.title.basics.csv.bz2`"
   ]
  },
  {
   "cell_type": "markdown",
   "metadata": {},
   "source": [
    "Our methodology will be as follows for each dataset:\n",
    "\n",
    "1. Identify wrongly encoded data types\n",
    "2. Impute/Drop missing values\n",
    "3. Drop columns which aren't required\n",
    "\n",
    "Finally we will try to unify our datasets into one csv file for simple loading."
   ]
  },
  {
   "cell_type": "markdown",
   "metadata": {
    "collapsed": "true"
   },
   "source": [
    "## imports and functions"
   ]
  },
  {
   "cell_type": "code",
   "execution_count": 1,
   "metadata": {
    "execution": {
     "iopub.execute_input": "2020-06-03T01:45:44.669846Z",
     "iopub.status.busy": "2020-06-03T01:45:44.669633Z",
     "iopub.status.idle": "2020-06-03T01:45:44.673233Z",
     "shell.execute_reply": "2020-06-03T01:45:44.672576Z",
     "shell.execute_reply.started": "2020-06-03T01:45:44.669822Z"
    }
   },
   "outputs": [],
   "source": [
    "# filter out warnings\n",
    "from warnings import filterwarnings\n",
    "filterwarnings(\"ignore\")"
   ]
  },
  {
   "cell_type": "code",
   "execution_count": 2,
   "metadata": {
    "execution": {
     "iopub.execute_input": "2020-06-03T01:45:44.674510Z",
     "iopub.status.busy": "2020-06-03T01:45:44.674311Z",
     "iopub.status.idle": "2020-06-03T01:45:44.899990Z",
     "shell.execute_reply": "2020-06-03T01:45:44.899404Z",
     "shell.execute_reply.started": "2020-06-03T01:45:44.674487Z"
    }
   },
   "outputs": [],
   "source": [
    "# import our required libraries\n",
    "import pandas as pd\n",
    "import numpy as np\n",
    "from src.tools import currency_string_to_float"
   ]
  },
  {
   "cell_type": "code",
   "execution_count": 3,
   "metadata": {
    "execution": {
     "iopub.execute_input": "2020-06-03T01:45:44.901380Z",
     "iopub.status.busy": "2020-06-03T01:45:44.901182Z",
     "iopub.status.idle": "2020-06-03T01:45:44.905425Z",
     "shell.execute_reply": "2020-06-03T01:45:44.904791Z",
     "shell.execute_reply.started": "2020-06-03T01:45:44.901358Z"
    }
   },
   "outputs": [],
   "source": [
    "# function to import dataset display info and head\n",
    "def import_and_display(filepath: str, *args, **kwargs):\n",
    "    \"\"\"load a dataset display info and print head\"\"\"\n",
    "    # load our dataset\n",
    "    df = pd.read_csv(filepath, *args, **kwargs)\n",
    "    # display info and head\n",
    "    df.info()\n",
    "    display(df.head())\n",
    "    return df"
   ]
  },
  {
   "cell_type": "markdown",
   "metadata": {
    "collapsed": "true"
   },
   "source": [
    "## tn.movie_budgets.csv.bz2"
   ]
  },
  {
   "cell_type": "code",
   "execution_count": 4,
   "metadata": {
    "execution": {
     "iopub.execute_input": "2020-06-03T01:45:44.906580Z",
     "iopub.status.busy": "2020-06-03T01:45:44.906393Z",
     "iopub.status.idle": "2020-06-03T01:45:44.992226Z",
     "shell.execute_reply": "2020-06-03T01:45:44.991408Z",
     "shell.execute_reply.started": "2020-06-03T01:45:44.906558Z"
    }
   },
   "outputs": [
    {
     "name": "stdout",
     "output_type": "stream",
     "text": [
      "<class 'pandas.core.frame.DataFrame'>\n",
      "RangeIndex: 5782 entries, 0 to 5781\n",
      "Data columns (total 6 columns):\n",
      " #   Column             Non-Null Count  Dtype \n",
      "---  ------             --------------  ----- \n",
      " 0   id                 5782 non-null   int64 \n",
      " 1   release_date       5782 non-null   object\n",
      " 2   movie              5782 non-null   object\n",
      " 3   production_budget  5782 non-null   object\n",
      " 4   domestic_gross     5782 non-null   object\n",
      " 5   worldwide_gross    5782 non-null   object\n",
      "dtypes: int64(1), object(5)\n",
      "memory usage: 271.2+ KB\n"
     ]
    },
    {
     "data": {
      "text/html": [
       "<div>\n",
       "<style scoped>\n",
       "    .dataframe tbody tr th:only-of-type {\n",
       "        vertical-align: middle;\n",
       "    }\n",
       "\n",
       "    .dataframe tbody tr th {\n",
       "        vertical-align: top;\n",
       "    }\n",
       "\n",
       "    .dataframe thead th {\n",
       "        text-align: right;\n",
       "    }\n",
       "</style>\n",
       "<table border=\"1\" class=\"dataframe\">\n",
       "  <thead>\n",
       "    <tr style=\"text-align: right;\">\n",
       "      <th></th>\n",
       "      <th>id</th>\n",
       "      <th>release_date</th>\n",
       "      <th>movie</th>\n",
       "      <th>production_budget</th>\n",
       "      <th>domestic_gross</th>\n",
       "      <th>worldwide_gross</th>\n",
       "    </tr>\n",
       "  </thead>\n",
       "  <tbody>\n",
       "    <tr>\n",
       "      <th>0</th>\n",
       "      <td>1</td>\n",
       "      <td>Dec 18, 2009</td>\n",
       "      <td>Avatar</td>\n",
       "      <td>$425,000,000</td>\n",
       "      <td>$760,507,625</td>\n",
       "      <td>$2,776,345,279</td>\n",
       "    </tr>\n",
       "    <tr>\n",
       "      <th>1</th>\n",
       "      <td>2</td>\n",
       "      <td>May 20, 2011</td>\n",
       "      <td>Pirates of the Caribbean: On Stranger Tides</td>\n",
       "      <td>$410,600,000</td>\n",
       "      <td>$241,063,875</td>\n",
       "      <td>$1,045,663,875</td>\n",
       "    </tr>\n",
       "    <tr>\n",
       "      <th>2</th>\n",
       "      <td>3</td>\n",
       "      <td>Jun 7, 2019</td>\n",
       "      <td>Dark Phoenix</td>\n",
       "      <td>$350,000,000</td>\n",
       "      <td>$42,762,350</td>\n",
       "      <td>$149,762,350</td>\n",
       "    </tr>\n",
       "    <tr>\n",
       "      <th>3</th>\n",
       "      <td>4</td>\n",
       "      <td>May 1, 2015</td>\n",
       "      <td>Avengers: Age of Ultron</td>\n",
       "      <td>$330,600,000</td>\n",
       "      <td>$459,005,868</td>\n",
       "      <td>$1,403,013,963</td>\n",
       "    </tr>\n",
       "    <tr>\n",
       "      <th>4</th>\n",
       "      <td>5</td>\n",
       "      <td>Dec 15, 2017</td>\n",
       "      <td>Star Wars Ep. VIII: The Last Jedi</td>\n",
       "      <td>$317,000,000</td>\n",
       "      <td>$620,181,382</td>\n",
       "      <td>$1,316,721,747</td>\n",
       "    </tr>\n",
       "  </tbody>\n",
       "</table>\n",
       "</div>"
      ],
      "text/plain": [
       "   id  release_date                                        movie  \\\n",
       "0   1  Dec 18, 2009                                       Avatar   \n",
       "1   2  May 20, 2011  Pirates of the Caribbean: On Stranger Tides   \n",
       "2   3   Jun 7, 2019                                 Dark Phoenix   \n",
       "3   4   May 1, 2015                      Avengers: Age of Ultron   \n",
       "4   5  Dec 15, 2017            Star Wars Ep. VIII: The Last Jedi   \n",
       "\n",
       "  production_budget domestic_gross worldwide_gross  \n",
       "0      $425,000,000   $760,507,625  $2,776,345,279  \n",
       "1      $410,600,000   $241,063,875  $1,045,663,875  \n",
       "2      $350,000,000    $42,762,350    $149,762,350  \n",
       "3      $330,600,000   $459,005,868  $1,403,013,963  \n",
       "4      $317,000,000   $620,181,382  $1,316,721,747  "
      ]
     },
     "metadata": {},
     "output_type": "display_data"
    }
   ],
   "source": [
    "# import our dataset, display info and head\n",
    "tn_movie_budgets = import_and_display(\"../data/raw/tn.movie_budgets.csv.bz2\")"
   ]
  },
  {
   "cell_type": "markdown",
   "metadata": {},
   "source": [
    "Our dataset doesn't look to have any issues, there are no known missing values, but we do have columns that should be numeric encoded as objects."
   ]
  },
  {
   "cell_type": "code",
   "execution_count": 5,
   "metadata": {
    "execution": {
     "iopub.execute_input": "2020-06-03T01:45:44.993860Z",
     "iopub.status.busy": "2020-06-03T01:45:44.993614Z",
     "iopub.status.idle": "2020-06-03T01:45:45.464859Z",
     "shell.execute_reply": "2020-06-03T01:45:45.464312Z",
     "shell.execute_reply.started": "2020-06-03T01:45:44.993833Z"
    }
   },
   "outputs": [],
   "source": [
    "# convert release_date to a datetime instance\n",
    "tn_movie_budgets.release_date = pd.to_datetime(tn_movie_budgets.release_date)"
   ]
  },
  {
   "cell_type": "code",
   "execution_count": 6,
   "metadata": {
    "execution": {
     "iopub.execute_input": "2020-06-03T01:45:45.465673Z",
     "iopub.status.busy": "2020-06-03T01:45:45.465514Z",
     "iopub.status.idle": "2020-06-03T01:45:45.509981Z",
     "shell.execute_reply": "2020-06-03T01:45:45.509373Z",
     "shell.execute_reply.started": "2020-06-03T01:45:45.465655Z"
    }
   },
   "outputs": [],
   "source": [
    "# convert our budget and gross columns to float\n",
    "cols_to_convert = ['production_budget', 'domestic_gross', 'worldwide_gross']\n",
    "result = tn_movie_budgets[cols_to_convert].applymap(currency_string_to_float)\n",
    "tn_movie_budgets[cols_to_convert] = result"
   ]
  },
  {
   "cell_type": "code",
   "execution_count": 7,
   "metadata": {
    "execution": {
     "iopub.execute_input": "2020-06-03T01:45:45.510925Z",
     "iopub.status.busy": "2020-06-03T01:45:45.510755Z",
     "iopub.status.idle": "2020-06-03T01:45:45.522856Z",
     "shell.execute_reply": "2020-06-03T01:45:45.522066Z",
     "shell.execute_reply.started": "2020-06-03T01:45:45.510905Z"
    }
   },
   "outputs": [],
   "source": [
    "# finally drop the id column\n",
    "tn_movie_budgets.drop(columns=\"id\", errors=\"ignore\", inplace=True)"
   ]
  },
  {
   "cell_type": "markdown",
   "metadata": {
    "collapsed": "true"
   },
   "source": [
    "## tmdb.movies.csv.bz2"
   ]
  },
  {
   "cell_type": "code",
   "execution_count": 8,
   "metadata": {
    "execution": {
     "iopub.execute_input": "2020-06-03T01:45:45.524078Z",
     "iopub.status.busy": "2020-06-03T01:45:45.523802Z",
     "iopub.status.idle": "2020-06-03T01:45:45.715261Z",
     "shell.execute_reply": "2020-06-03T01:45:45.714497Z",
     "shell.execute_reply.started": "2020-06-03T01:45:45.524043Z"
    }
   },
   "outputs": [
    {
     "name": "stdout",
     "output_type": "stream",
     "text": [
      "<class 'pandas.core.frame.DataFrame'>\n",
      "RangeIndex: 26517 entries, 0 to 26516\n",
      "Data columns (total 10 columns):\n",
      " #   Column             Non-Null Count  Dtype  \n",
      "---  ------             --------------  -----  \n",
      " 0   Unnamed: 0         26517 non-null  int64  \n",
      " 1   genre_ids          26517 non-null  object \n",
      " 2   id                 26517 non-null  int64  \n",
      " 3   original_language  26517 non-null  object \n",
      " 4   original_title     26517 non-null  object \n",
      " 5   popularity         26517 non-null  float64\n",
      " 6   release_date       26517 non-null  object \n",
      " 7   title              26517 non-null  object \n",
      " 8   vote_average       26517 non-null  float64\n",
      " 9   vote_count         26517 non-null  int64  \n",
      "dtypes: float64(2), int64(3), object(5)\n",
      "memory usage: 2.0+ MB\n"
     ]
    },
    {
     "data": {
      "text/html": [
       "<div>\n",
       "<style scoped>\n",
       "    .dataframe tbody tr th:only-of-type {\n",
       "        vertical-align: middle;\n",
       "    }\n",
       "\n",
       "    .dataframe tbody tr th {\n",
       "        vertical-align: top;\n",
       "    }\n",
       "\n",
       "    .dataframe thead th {\n",
       "        text-align: right;\n",
       "    }\n",
       "</style>\n",
       "<table border=\"1\" class=\"dataframe\">\n",
       "  <thead>\n",
       "    <tr style=\"text-align: right;\">\n",
       "      <th></th>\n",
       "      <th>Unnamed: 0</th>\n",
       "      <th>genre_ids</th>\n",
       "      <th>id</th>\n",
       "      <th>original_language</th>\n",
       "      <th>original_title</th>\n",
       "      <th>popularity</th>\n",
       "      <th>release_date</th>\n",
       "      <th>title</th>\n",
       "      <th>vote_average</th>\n",
       "      <th>vote_count</th>\n",
       "    </tr>\n",
       "  </thead>\n",
       "  <tbody>\n",
       "    <tr>\n",
       "      <th>0</th>\n",
       "      <td>0</td>\n",
       "      <td>[12, 14, 10751]</td>\n",
       "      <td>12444</td>\n",
       "      <td>en</td>\n",
       "      <td>Harry Potter and the Deathly Hallows: Part 1</td>\n",
       "      <td>33.533</td>\n",
       "      <td>2010-11-19</td>\n",
       "      <td>Harry Potter and the Deathly Hallows: Part 1</td>\n",
       "      <td>7.7</td>\n",
       "      <td>10788</td>\n",
       "    </tr>\n",
       "    <tr>\n",
       "      <th>1</th>\n",
       "      <td>1</td>\n",
       "      <td>[14, 12, 16, 10751]</td>\n",
       "      <td>10191</td>\n",
       "      <td>en</td>\n",
       "      <td>How to Train Your Dragon</td>\n",
       "      <td>28.734</td>\n",
       "      <td>2010-03-26</td>\n",
       "      <td>How to Train Your Dragon</td>\n",
       "      <td>7.7</td>\n",
       "      <td>7610</td>\n",
       "    </tr>\n",
       "    <tr>\n",
       "      <th>2</th>\n",
       "      <td>2</td>\n",
       "      <td>[12, 28, 878]</td>\n",
       "      <td>10138</td>\n",
       "      <td>en</td>\n",
       "      <td>Iron Man 2</td>\n",
       "      <td>28.515</td>\n",
       "      <td>2010-05-07</td>\n",
       "      <td>Iron Man 2</td>\n",
       "      <td>6.8</td>\n",
       "      <td>12368</td>\n",
       "    </tr>\n",
       "    <tr>\n",
       "      <th>3</th>\n",
       "      <td>3</td>\n",
       "      <td>[16, 35, 10751]</td>\n",
       "      <td>862</td>\n",
       "      <td>en</td>\n",
       "      <td>Toy Story</td>\n",
       "      <td>28.005</td>\n",
       "      <td>1995-11-22</td>\n",
       "      <td>Toy Story</td>\n",
       "      <td>7.9</td>\n",
       "      <td>10174</td>\n",
       "    </tr>\n",
       "    <tr>\n",
       "      <th>4</th>\n",
       "      <td>4</td>\n",
       "      <td>[28, 878, 12]</td>\n",
       "      <td>27205</td>\n",
       "      <td>en</td>\n",
       "      <td>Inception</td>\n",
       "      <td>27.920</td>\n",
       "      <td>2010-07-16</td>\n",
       "      <td>Inception</td>\n",
       "      <td>8.3</td>\n",
       "      <td>22186</td>\n",
       "    </tr>\n",
       "  </tbody>\n",
       "</table>\n",
       "</div>"
      ],
      "text/plain": [
       "   Unnamed: 0            genre_ids     id original_language  \\\n",
       "0           0      [12, 14, 10751]  12444                en   \n",
       "1           1  [14, 12, 16, 10751]  10191                en   \n",
       "2           2        [12, 28, 878]  10138                en   \n",
       "3           3      [16, 35, 10751]    862                en   \n",
       "4           4        [28, 878, 12]  27205                en   \n",
       "\n",
       "                                 original_title  popularity release_date  \\\n",
       "0  Harry Potter and the Deathly Hallows: Part 1      33.533   2010-11-19   \n",
       "1                      How to Train Your Dragon      28.734   2010-03-26   \n",
       "2                                    Iron Man 2      28.515   2010-05-07   \n",
       "3                                     Toy Story      28.005   1995-11-22   \n",
       "4                                     Inception      27.920   2010-07-16   \n",
       "\n",
       "                                          title  vote_average  vote_count  \n",
       "0  Harry Potter and the Deathly Hallows: Part 1           7.7       10788  \n",
       "1                      How to Train Your Dragon           7.7        7610  \n",
       "2                                    Iron Man 2           6.8       12368  \n",
       "3                                     Toy Story           7.9       10174  \n",
       "4                                     Inception           8.3       22186  "
      ]
     },
     "metadata": {},
     "output_type": "display_data"
    }
   ],
   "source": [
    "# import our dataset, display info and head\n",
    "tmdb_movies = import_and_display(\"../data/raw/tmdb.movies.csv.bz2\")"
   ]
  },
  {
   "cell_type": "markdown",
   "metadata": {},
   "source": [
    "For this dataset we really only need to keep the release data, and a key to join on. We'll convert the release_date\n",
    "to a datetime object and then drop the unnecessary columns."
   ]
  },
  {
   "cell_type": "code",
   "execution_count": 9,
   "metadata": {
    "execution": {
     "iopub.execute_input": "2020-06-03T01:45:45.718078Z",
     "iopub.status.busy": "2020-06-03T01:45:45.717895Z",
     "iopub.status.idle": "2020-06-03T01:45:45.723629Z",
     "shell.execute_reply": "2020-06-03T01:45:45.723179Z",
     "shell.execute_reply.started": "2020-06-03T01:45:45.718059Z"
    }
   },
   "outputs": [],
   "source": [
    "# keep only original_title and title, and release date\n",
    "keep_cols = ['original_title', 'title', 'release_date']\n",
    "tmdb_movies = tmdb_movies[keep_cols]"
   ]
  },
  {
   "cell_type": "code",
   "execution_count": 10,
   "metadata": {
    "execution": {
     "iopub.execute_input": "2020-06-03T01:45:45.724607Z",
     "iopub.status.busy": "2020-06-03T01:45:45.724457Z",
     "iopub.status.idle": "2020-06-03T01:45:45.738806Z",
     "shell.execute_reply": "2020-06-03T01:45:45.738241Z",
     "shell.execute_reply.started": "2020-06-03T01:45:45.724589Z"
    }
   },
   "outputs": [],
   "source": [
    "# convert our datetime column\n",
    "tmdb_movies.release_date = pd.to_datetime(tmdb_movies.release_date)"
   ]
  },
  {
   "cell_type": "code",
   "execution_count": 11,
   "metadata": {
    "execution": {
     "iopub.execute_input": "2020-06-03T01:45:45.739664Z",
     "iopub.status.busy": "2020-06-03T01:45:45.739514Z",
     "iopub.status.idle": "2020-06-03T01:45:45.745983Z",
     "shell.execute_reply": "2020-06-03T01:45:45.745405Z",
     "shell.execute_reply.started": "2020-06-03T01:45:45.739645Z"
    }
   },
   "outputs": [
    {
     "name": "stdout",
     "output_type": "stream",
     "text": [
      "Movies with title change: 9.59%\n"
     ]
    }
   ],
   "source": [
    "# are all original titles the same as title\n",
    "title_change_movies = tmdb_movies.original_title != tmdb_movies.title\n",
    "print(f\"Movies with title change: {title_change_movies.sum()/tmdb_movies.shape[0]:.2%}\")"
   ]
  },
  {
   "cell_type": "markdown",
   "metadata": {},
   "source": [
    "One way we can deal with this is by creating a new dataframe with only one title column and release date, and then removing duplicates.\n",
    "This'll allow us to retain as much data as possible."
   ]
  },
  {
   "cell_type": "code",
   "execution_count": 12,
   "metadata": {
    "execution": {
     "iopub.execute_input": "2020-06-03T01:45:45.746820Z",
     "iopub.status.busy": "2020-06-03T01:45:45.746629Z",
     "iopub.status.idle": "2020-06-03T01:45:46.492552Z",
     "shell.execute_reply": "2020-06-03T01:45:46.491946Z",
     "shell.execute_reply.started": "2020-06-03T01:45:45.746797Z"
    }
   },
   "outputs": [
    {
     "name": "stdout",
     "output_type": "stream",
     "text": [
      "Exploded Size: 53034\n"
     ]
    }
   ],
   "source": [
    "# combine our two title columns, exlode them\n",
    "tmdb_movies[\"title_tup\"] = tmdb_movies.apply(lambda row: (row[0], row[1]), axis=1)\n",
    "tmdb_movies = tmdb_movies.explode(\"title_tup\")[[\"title_tup\", \"release_date\"]]\n",
    "print(f\"Exploded Size: {tmdb_movies.shape[0]:g}\")"
   ]
  },
  {
   "cell_type": "code",
   "execution_count": 13,
   "metadata": {
    "execution": {
     "iopub.execute_input": "2020-06-03T01:45:46.493459Z",
     "iopub.status.busy": "2020-06-03T01:45:46.493287Z",
     "iopub.status.idle": "2020-06-03T01:45:46.509074Z",
     "shell.execute_reply": "2020-06-03T01:45:46.508410Z",
     "shell.execute_reply.started": "2020-06-03T01:45:46.493439Z"
    }
   },
   "outputs": [],
   "source": [
    "# drop duplicates and rename columns\n",
    "tmdb_movies.drop_duplicates(inplace=True)\n",
    "tmdb_movies.rename(columns={\"title_tup\": \"title\"}, inplace=True)"
   ]
  },
  {
   "cell_type": "markdown",
   "metadata": {
    "collapsed": "true"
   },
   "source": [
    "## imdb.title.crew.csv.bz2"
   ]
  },
  {
   "cell_type": "code",
   "execution_count": 14,
   "metadata": {
    "execution": {
     "iopub.execute_input": "2020-06-03T01:45:46.510232Z",
     "iopub.status.busy": "2020-06-03T01:45:46.509949Z",
     "iopub.status.idle": "2020-06-03T01:45:46.984929Z",
     "shell.execute_reply": "2020-06-03T01:45:46.984052Z",
     "shell.execute_reply.started": "2020-06-03T01:45:46.510206Z"
    }
   },
   "outputs": [
    {
     "name": "stdout",
     "output_type": "stream",
     "text": [
      "<class 'pandas.core.frame.DataFrame'>\n",
      "RangeIndex: 146144 entries, 0 to 146143\n",
      "Data columns (total 3 columns):\n",
      " #   Column     Non-Null Count   Dtype \n",
      "---  ------     --------------   ----- \n",
      " 0   tconst     146144 non-null  object\n",
      " 1   directors  140417 non-null  object\n",
      " 2   writers    110261 non-null  object\n",
      "dtypes: object(3)\n",
      "memory usage: 3.3+ MB\n"
     ]
    },
    {
     "data": {
      "text/html": [
       "<div>\n",
       "<style scoped>\n",
       "    .dataframe tbody tr th:only-of-type {\n",
       "        vertical-align: middle;\n",
       "    }\n",
       "\n",
       "    .dataframe tbody tr th {\n",
       "        vertical-align: top;\n",
       "    }\n",
       "\n",
       "    .dataframe thead th {\n",
       "        text-align: right;\n",
       "    }\n",
       "</style>\n",
       "<table border=\"1\" class=\"dataframe\">\n",
       "  <thead>\n",
       "    <tr style=\"text-align: right;\">\n",
       "      <th></th>\n",
       "      <th>tconst</th>\n",
       "      <th>directors</th>\n",
       "      <th>writers</th>\n",
       "    </tr>\n",
       "  </thead>\n",
       "  <tbody>\n",
       "    <tr>\n",
       "      <th>0</th>\n",
       "      <td>tt0285252</td>\n",
       "      <td>nm0899854</td>\n",
       "      <td>nm0899854</td>\n",
       "    </tr>\n",
       "    <tr>\n",
       "      <th>1</th>\n",
       "      <td>tt0438973</td>\n",
       "      <td>NaN</td>\n",
       "      <td>nm0175726,nm1802864</td>\n",
       "    </tr>\n",
       "    <tr>\n",
       "      <th>2</th>\n",
       "      <td>tt0462036</td>\n",
       "      <td>nm1940585</td>\n",
       "      <td>nm1940585</td>\n",
       "    </tr>\n",
       "    <tr>\n",
       "      <th>3</th>\n",
       "      <td>tt0835418</td>\n",
       "      <td>nm0151540</td>\n",
       "      <td>nm0310087,nm0841532</td>\n",
       "    </tr>\n",
       "    <tr>\n",
       "      <th>4</th>\n",
       "      <td>tt0878654</td>\n",
       "      <td>nm0089502,nm2291498,nm2292011</td>\n",
       "      <td>nm0284943</td>\n",
       "    </tr>\n",
       "  </tbody>\n",
       "</table>\n",
       "</div>"
      ],
      "text/plain": [
       "      tconst                      directors              writers\n",
       "0  tt0285252                      nm0899854            nm0899854\n",
       "1  tt0438973                            NaN  nm0175726,nm1802864\n",
       "2  tt0462036                      nm1940585            nm1940585\n",
       "3  tt0835418                      nm0151540  nm0310087,nm0841532\n",
       "4  tt0878654  nm0089502,nm2291498,nm2292011            nm0284943"
      ]
     },
     "metadata": {},
     "output_type": "display_data"
    }
   ],
   "source": [
    "# load our dataset\n",
    "imdb_title_crew = import_and_display(\"../data/raw/imdb.title.crew.csv.bz2\")"
   ]
  },
  {
   "cell_type": "markdown",
   "metadata": {},
   "source": [
    "This dataset is interesting it appears to be keys to be joined to the other imdb datasets. cleaning it up will be simple. We'll drop the writers column and explode the directors column."
   ]
  },
  {
   "cell_type": "code",
   "execution_count": 15,
   "metadata": {
    "execution": {
     "iopub.execute_input": "2020-06-03T01:45:46.986158Z",
     "iopub.status.busy": "2020-06-03T01:45:46.985910Z",
     "iopub.status.idle": "2020-06-03T01:45:47.131050Z",
     "shell.execute_reply": "2020-06-03T01:45:47.130339Z",
     "shell.execute_reply.started": "2020-06-03T01:45:46.986116Z"
    }
   },
   "outputs": [],
   "source": [
    "# drop writers column, convert each directors to list of str\n",
    "imdb_title_crew.drop(columns=\"writers\", inplace=True, errors=\"ignore\")\n",
    "imdb_title_crew.directors = imdb_title_crew.directors.str.split(\",\")"
   ]
  },
  {
   "cell_type": "code",
   "execution_count": 16,
   "metadata": {
    "execution": {
     "iopub.execute_input": "2020-06-03T01:45:47.132059Z",
     "iopub.status.busy": "2020-06-03T01:45:47.131872Z",
     "iopub.status.idle": "2020-06-03T01:45:47.364531Z",
     "shell.execute_reply": "2020-06-03T01:45:47.363810Z",
     "shell.execute_reply.started": "2020-06-03T01:45:47.132035Z"
    }
   },
   "outputs": [],
   "source": [
    "# explode the directors column and drop nan rows\n",
    "imdb_title_crew = imdb_title_crew.explode(\"directors\")\n",
    "imdb_title_crew.dropna(inplace=True)"
   ]
  },
  {
   "cell_type": "markdown",
   "metadata": {
    "collapsed": "true"
   },
   "source": [
    "## imdb.name.basics.csv.bz2"
   ]
  },
  {
   "cell_type": "code",
   "execution_count": 17,
   "metadata": {
    "execution": {
     "iopub.execute_input": "2020-06-03T01:45:47.365619Z",
     "iopub.status.busy": "2020-06-03T01:45:47.365400Z",
     "iopub.status.idle": "2020-06-03T01:45:50.657364Z",
     "shell.execute_reply": "2020-06-03T01:45:50.656779Z",
     "shell.execute_reply.started": "2020-06-03T01:45:47.365593Z"
    }
   },
   "outputs": [
    {
     "name": "stdout",
     "output_type": "stream",
     "text": [
      "<class 'pandas.core.frame.DataFrame'>\n",
      "RangeIndex: 606648 entries, 0 to 606647\n",
      "Data columns (total 6 columns):\n",
      " #   Column              Non-Null Count   Dtype  \n",
      "---  ------              --------------   -----  \n",
      " 0   nconst              606648 non-null  object \n",
      " 1   primary_name        606648 non-null  object \n",
      " 2   birth_year          82736 non-null   float64\n",
      " 3   death_year          6783 non-null    float64\n",
      " 4   primary_profession  555308 non-null  object \n",
      " 5   known_for_titles    576444 non-null  object \n",
      "dtypes: float64(2), object(4)\n",
      "memory usage: 27.8+ MB\n"
     ]
    },
    {
     "data": {
      "text/html": [
       "<div>\n",
       "<style scoped>\n",
       "    .dataframe tbody tr th:only-of-type {\n",
       "        vertical-align: middle;\n",
       "    }\n",
       "\n",
       "    .dataframe tbody tr th {\n",
       "        vertical-align: top;\n",
       "    }\n",
       "\n",
       "    .dataframe thead th {\n",
       "        text-align: right;\n",
       "    }\n",
       "</style>\n",
       "<table border=\"1\" class=\"dataframe\">\n",
       "  <thead>\n",
       "    <tr style=\"text-align: right;\">\n",
       "      <th></th>\n",
       "      <th>nconst</th>\n",
       "      <th>primary_name</th>\n",
       "      <th>birth_year</th>\n",
       "      <th>death_year</th>\n",
       "      <th>primary_profession</th>\n",
       "      <th>known_for_titles</th>\n",
       "    </tr>\n",
       "  </thead>\n",
       "  <tbody>\n",
       "    <tr>\n",
       "      <th>0</th>\n",
       "      <td>nm0061671</td>\n",
       "      <td>Mary Ellen Bauder</td>\n",
       "      <td>NaN</td>\n",
       "      <td>NaN</td>\n",
       "      <td>miscellaneous,production_manager,producer</td>\n",
       "      <td>tt0837562,tt2398241,tt0844471,tt0118553</td>\n",
       "    </tr>\n",
       "    <tr>\n",
       "      <th>1</th>\n",
       "      <td>nm0061865</td>\n",
       "      <td>Joseph Bauer</td>\n",
       "      <td>NaN</td>\n",
       "      <td>NaN</td>\n",
       "      <td>composer,music_department,sound_department</td>\n",
       "      <td>tt0896534,tt6791238,tt0287072,tt1682940</td>\n",
       "    </tr>\n",
       "    <tr>\n",
       "      <th>2</th>\n",
       "      <td>nm0062070</td>\n",
       "      <td>Bruce Baum</td>\n",
       "      <td>NaN</td>\n",
       "      <td>NaN</td>\n",
       "      <td>miscellaneous,actor,writer</td>\n",
       "      <td>tt1470654,tt0363631,tt0104030,tt0102898</td>\n",
       "    </tr>\n",
       "    <tr>\n",
       "      <th>3</th>\n",
       "      <td>nm0062195</td>\n",
       "      <td>Axel Baumann</td>\n",
       "      <td>NaN</td>\n",
       "      <td>NaN</td>\n",
       "      <td>camera_department,cinematographer,art_department</td>\n",
       "      <td>tt0114371,tt2004304,tt1618448,tt1224387</td>\n",
       "    </tr>\n",
       "    <tr>\n",
       "      <th>4</th>\n",
       "      <td>nm0062798</td>\n",
       "      <td>Pete Baxter</td>\n",
       "      <td>NaN</td>\n",
       "      <td>NaN</td>\n",
       "      <td>production_designer,art_department,set_decorator</td>\n",
       "      <td>tt0452644,tt0452692,tt3458030,tt2178256</td>\n",
       "    </tr>\n",
       "  </tbody>\n",
       "</table>\n",
       "</div>"
      ],
      "text/plain": [
       "      nconst       primary_name  birth_year  death_year  \\\n",
       "0  nm0061671  Mary Ellen Bauder         NaN         NaN   \n",
       "1  nm0061865       Joseph Bauer         NaN         NaN   \n",
       "2  nm0062070         Bruce Baum         NaN         NaN   \n",
       "3  nm0062195       Axel Baumann         NaN         NaN   \n",
       "4  nm0062798        Pete Baxter         NaN         NaN   \n",
       "\n",
       "                                 primary_profession  \\\n",
       "0         miscellaneous,production_manager,producer   \n",
       "1        composer,music_department,sound_department   \n",
       "2                        miscellaneous,actor,writer   \n",
       "3  camera_department,cinematographer,art_department   \n",
       "4  production_designer,art_department,set_decorator   \n",
       "\n",
       "                          known_for_titles  \n",
       "0  tt0837562,tt2398241,tt0844471,tt0118553  \n",
       "1  tt0896534,tt6791238,tt0287072,tt1682940  \n",
       "2  tt1470654,tt0363631,tt0104030,tt0102898  \n",
       "3  tt0114371,tt2004304,tt1618448,tt1224387  \n",
       "4  tt0452644,tt0452692,tt3458030,tt2178256  "
      ]
     },
     "metadata": {},
     "output_type": "display_data"
    }
   ],
   "source": [
    "# load and display our data\n",
    "imdb_name_basics = import_and_display(\"../data/raw/imdb.name.basics.csv.bz2\")"
   ]
  },
  {
   "cell_type": "markdown",
   "metadata": {},
   "source": [
    "We'll drop all columns except for nconst and primary_name. We could keep just those who have director in their primary profession, but we will be joining later, so it would be wasteful."
   ]
  },
  {
   "cell_type": "code",
   "execution_count": 18,
   "metadata": {
    "execution": {
     "iopub.execute_input": "2020-06-03T01:45:50.658288Z",
     "iopub.status.busy": "2020-06-03T01:45:50.658123Z",
     "iopub.status.idle": "2020-06-03T01:45:50.716249Z",
     "shell.execute_reply": "2020-06-03T01:45:50.715414Z",
     "shell.execute_reply.started": "2020-06-03T01:45:50.658267Z"
    }
   },
   "outputs": [],
   "source": [
    "# keep only nconst and primary name columns\n",
    "imdb_name_basics = imdb_name_basics[[\"nconst\", \"primary_name\"]]"
   ]
  },
  {
   "cell_type": "markdown",
   "metadata": {},
   "source": [
    "## imdb.title.basics.csv.bz2"
   ]
  },
  {
   "cell_type": "code",
   "execution_count": 19,
   "metadata": {
    "execution": {
     "iopub.execute_input": "2020-06-03T01:45:50.718009Z",
     "iopub.status.busy": "2020-06-03T01:45:50.717660Z",
     "iopub.status.idle": "2020-06-03T01:45:51.554423Z",
     "shell.execute_reply": "2020-06-03T01:45:51.553635Z",
     "shell.execute_reply.started": "2020-06-03T01:45:50.717967Z"
    }
   },
   "outputs": [
    {
     "name": "stdout",
     "output_type": "stream",
     "text": [
      "<class 'pandas.core.frame.DataFrame'>\n",
      "RangeIndex: 146144 entries, 0 to 146143\n",
      "Data columns (total 6 columns):\n",
      " #   Column           Non-Null Count   Dtype  \n",
      "---  ------           --------------   -----  \n",
      " 0   tconst           146144 non-null  object \n",
      " 1   primary_title    146144 non-null  object \n",
      " 2   original_title   146123 non-null  object \n",
      " 3   start_year       146144 non-null  int64  \n",
      " 4   runtime_minutes  114405 non-null  float64\n",
      " 5   genres           140736 non-null  object \n",
      "dtypes: float64(1), int64(1), object(4)\n",
      "memory usage: 6.7+ MB\n"
     ]
    },
    {
     "data": {
      "text/html": [
       "<div>\n",
       "<style scoped>\n",
       "    .dataframe tbody tr th:only-of-type {\n",
       "        vertical-align: middle;\n",
       "    }\n",
       "\n",
       "    .dataframe tbody tr th {\n",
       "        vertical-align: top;\n",
       "    }\n",
       "\n",
       "    .dataframe thead th {\n",
       "        text-align: right;\n",
       "    }\n",
       "</style>\n",
       "<table border=\"1\" class=\"dataframe\">\n",
       "  <thead>\n",
       "    <tr style=\"text-align: right;\">\n",
       "      <th></th>\n",
       "      <th>tconst</th>\n",
       "      <th>primary_title</th>\n",
       "      <th>original_title</th>\n",
       "      <th>start_year</th>\n",
       "      <th>runtime_minutes</th>\n",
       "      <th>genres</th>\n",
       "    </tr>\n",
       "  </thead>\n",
       "  <tbody>\n",
       "    <tr>\n",
       "      <th>0</th>\n",
       "      <td>tt0063540</td>\n",
       "      <td>Sunghursh</td>\n",
       "      <td>Sunghursh</td>\n",
       "      <td>2013</td>\n",
       "      <td>175.0</td>\n",
       "      <td>Action,Crime,Drama</td>\n",
       "    </tr>\n",
       "    <tr>\n",
       "      <th>1</th>\n",
       "      <td>tt0066787</td>\n",
       "      <td>One Day Before the Rainy Season</td>\n",
       "      <td>Ashad Ka Ek Din</td>\n",
       "      <td>2019</td>\n",
       "      <td>114.0</td>\n",
       "      <td>Biography,Drama</td>\n",
       "    </tr>\n",
       "    <tr>\n",
       "      <th>2</th>\n",
       "      <td>tt0069049</td>\n",
       "      <td>The Other Side of the Wind</td>\n",
       "      <td>The Other Side of the Wind</td>\n",
       "      <td>2018</td>\n",
       "      <td>122.0</td>\n",
       "      <td>Drama</td>\n",
       "    </tr>\n",
       "    <tr>\n",
       "      <th>3</th>\n",
       "      <td>tt0069204</td>\n",
       "      <td>Sabse Bada Sukh</td>\n",
       "      <td>Sabse Bada Sukh</td>\n",
       "      <td>2018</td>\n",
       "      <td>NaN</td>\n",
       "      <td>Comedy,Drama</td>\n",
       "    </tr>\n",
       "    <tr>\n",
       "      <th>4</th>\n",
       "      <td>tt0100275</td>\n",
       "      <td>The Wandering Soap Opera</td>\n",
       "      <td>La Telenovela Errante</td>\n",
       "      <td>2017</td>\n",
       "      <td>80.0</td>\n",
       "      <td>Comedy,Drama,Fantasy</td>\n",
       "    </tr>\n",
       "  </tbody>\n",
       "</table>\n",
       "</div>"
      ],
      "text/plain": [
       "      tconst                    primary_title              original_title  \\\n",
       "0  tt0063540                        Sunghursh                   Sunghursh   \n",
       "1  tt0066787  One Day Before the Rainy Season             Ashad Ka Ek Din   \n",
       "2  tt0069049       The Other Side of the Wind  The Other Side of the Wind   \n",
       "3  tt0069204                  Sabse Bada Sukh             Sabse Bada Sukh   \n",
       "4  tt0100275         The Wandering Soap Opera       La Telenovela Errante   \n",
       "\n",
       "   start_year  runtime_minutes                genres  \n",
       "0        2013            175.0    Action,Crime,Drama  \n",
       "1        2019            114.0       Biography,Drama  \n",
       "2        2018            122.0                 Drama  \n",
       "3        2018              NaN          Comedy,Drama  \n",
       "4        2017             80.0  Comedy,Drama,Fantasy  "
      ]
     },
     "metadata": {},
     "output_type": "display_data"
    }
   ],
   "source": [
    "# import and load our data\n",
    "imdb_title_basics = import_and_display(\"../data/raw/imdb.title.basics.csv.bz2\")"
   ]
  },
  {
   "cell_type": "markdown",
   "metadata": {},
   "source": [
    "We'll explode genres, and verify that the original title and primary title are the same. If they aren't we'll create a new dataframe with a single title column in order to maintain data. "
   ]
  },
  {
   "cell_type": "code",
   "execution_count": 20,
   "metadata": {
    "execution": {
     "iopub.execute_input": "2020-06-03T01:45:51.555651Z",
     "iopub.status.busy": "2020-06-03T01:45:51.555415Z",
     "iopub.status.idle": "2020-06-03T01:45:54.998833Z",
     "shell.execute_reply": "2020-06-03T01:45:54.997943Z",
     "shell.execute_reply.started": "2020-06-03T01:45:51.555624Z"
    }
   },
   "outputs": [],
   "source": [
    "# make tuple of title and split genre into a list\n",
    "imdb_title_basics[\"title_tup\"] = imdb_title_basics.apply(\n",
    "    lambda row: (row[1], row[2]), axis=1\n",
    ")\n",
    "imdb_title_basics.genres = imdb_title_basics.genres.str.split(\",\")"
   ]
  },
  {
   "cell_type": "code",
   "execution_count": 21,
   "metadata": {
    "execution": {
     "iopub.execute_input": "2020-06-03T01:45:55.000358Z",
     "iopub.status.busy": "2020-06-03T01:45:55.000137Z",
     "iopub.status.idle": "2020-06-03T01:45:56.128743Z",
     "shell.execute_reply": "2020-06-03T01:45:56.127836Z",
     "shell.execute_reply.started": "2020-06-03T01:45:55.000332Z"
    }
   },
   "outputs": [],
   "source": [
    "# explode title_tup, and genres col\n",
    "imdb_title_basics = imdb_title_basics.explode(\"title_tup\")\n",
    "imdb_title_basics = imdb_title_basics.explode(\"genres\")"
   ]
  },
  {
   "cell_type": "code",
   "execution_count": 22,
   "metadata": {
    "execution": {
     "iopub.execute_input": "2020-06-03T01:45:56.129913Z",
     "iopub.status.busy": "2020-06-03T01:45:56.129674Z",
     "iopub.status.idle": "2020-06-03T01:45:56.422190Z",
     "shell.execute_reply": "2020-06-03T01:45:56.420973Z",
     "shell.execute_reply.started": "2020-06-03T01:45:56.129883Z"
    }
   },
   "outputs": [],
   "source": [
    "# drop columns primary_title and original_title and drop duplicates\n",
    "imdb_title_basics.drop(\n",
    "    columns=[\"primary_title\", \"original_title\"], inplace=True, errors=\"ignore\"\n",
    ")\n",
    "imdb_title_basics.drop_duplicates(inplace=True)"
   ]
  }
 ],
 "metadata": {
  "kernelspec": {
   "display_name": "Python [conda env:movie-industry]",
   "language": "python",
   "name": "conda-env-movie-industry-py"
  },
  "language_info": {
   "codemirror_mode": {
    "name": "ipython",
    "version": 3
   },
   "file_extension": ".py",
   "mimetype": "text/x-python",
   "name": "python",
   "nbconvert_exporter": "python",
   "pygments_lexer": "ipython3",
   "version": "3.8.3"
  },
  "widgets": {
   "application/vnd.jupyter.widget-state+json": {
    "state": {},
    "version_major": 2,
    "version_minor": 0
   }
  }
 },
 "nbformat": 4,
 "nbformat_minor": 4
}
