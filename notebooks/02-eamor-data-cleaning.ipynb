{
 "cells": [
  {
   "cell_type": "markdown",
   "metadata": {},
   "source": [
    "# Data Cleaning"
   ]
  },
  {
   "cell_type": "markdown",
   "metadata": {},
   "source": [
    "The following are the features of the movie industry we will be exploring\n",
    "along with the datasets that are needed to analyze them:\n",
    "\n",
    "- Genre: `imdb.title.basics.csv.bz2`\n",
    "- Runtime: `imdb.title.basics.csv.bz2`\n",
    "- Budget Allocation: `tn.movie_budgets.csv.bz2`\n",
    "- Release Window: `tn.movie_budgets.csv.bz2`, `tmdb.movies.csv.bz2`\n",
    "- Director: `imdb.title.crew.csv.bz2`, `imdb.name.basics.csv.bz2`"
   ]
  },
  {
   "cell_type": "markdown",
   "metadata": {},
   "source": [
    "Consolidated the list of datasets is:\n",
    "\n",
    "- `tn.movie_budgets.csv.bz2`\n",
    "- `tmdb.movies.csv.bz2`\n",
    "- `imdb.title.crew.csv.bz2`\n",
    "- `imdb.name.basics.csv.bz2`\n",
    "- `imdb.title.basics.csv.bz2`"
   ]
  },
  {
   "cell_type": "markdown",
   "metadata": {},
   "source": [
    "Our methodology will be as follows for each dataset:\n",
    "\n",
    "1. Identify wrongly encoded data types\n",
    "2. Impute/Drop missing values\n",
    "3. Drop columns which aren't required\n",
    "\n",
    "Finally we will try to unify our datasets into one csv file for simple loading."
   ]
  },
  {
   "cell_type": "code",
   "execution_count": null,
   "metadata": {},
   "outputs": [],
   "source": [
    "# filter out warnings\n",
    "from warnings import filterwarnings\n",
    "filterwarnings(\"ignore\")"
   ]
  },
  {
   "cell_type": "code",
   "execution_count": 2,
   "metadata": {
    "execution": {
     "iopub.status.idle": "2020-06-03T01:05:55.377674Z",
     "shell.execute_reply": "2020-06-03T01:05:55.377108Z",
     "shell.execute_reply.started": "2020-06-03T01:05:55.152695Z"
    }
   },
   "outputs": [],
   "source": [
    "# import our required libraries\n",
    "import pandas as pd\n",
    "import numpy as np\n",
    "from src.tools import currency_string_to_float"
   ]
  },
  {
   "cell_type": "code",
   "execution_count": 3,
   "metadata": {
    "execution": {
     "iopub.execute_input": "2020-06-03T01:05:55.378915Z",
     "iopub.status.busy": "2020-06-03T01:05:55.378745Z",
     "iopub.status.idle": "2020-06-03T01:05:55.382970Z",
     "shell.execute_reply": "2020-06-03T01:05:55.382406Z",
     "shell.execute_reply.started": "2020-06-03T01:05:55.378896Z"
    }
   },
   "outputs": [],
   "source": [
    "# function to import dataset display info and head\n",
    "def import_and_display(filepath: str, *args, **kwargs):\n",
    "    \"\"\"load a dataset display info and print head\"\"\"\n",
    "    # load our dataset\n",
    "    df = pd.read_csv(filepath, *args, **kwargs)\n",
    "    # display info and head\n",
    "    df.info()\n",
    "    display(df.head())\n",
    "    return df"
   ]
  },
  {
   "cell_type": "markdown",
   "metadata": {},
   "source": [
    "## tn.movie_budgets.csv.bz2"
   ]
  },
  {
   "cell_type": "code",
   "execution_count": 4,
   "metadata": {
    "execution": {
     "iopub.execute_input": "2020-06-03T01:05:55.384234Z",
     "iopub.status.busy": "2020-06-03T01:05:55.384050Z",
     "iopub.status.idle": "2020-06-03T01:05:55.452158Z",
     "shell.execute_reply": "2020-06-03T01:05:55.450964Z",
     "shell.execute_reply.started": "2020-06-03T01:05:55.384213Z"
    }
   },
   "outputs": [
    {
     "name": "stdout",
     "output_type": "stream",
     "text": [
      "<class 'pandas.core.frame.DataFrame'>\n",
      "RangeIndex: 5782 entries, 0 to 5781\n",
      "Data columns (total 6 columns):\n",
      " #   Column             Non-Null Count  Dtype \n",
      "---  ------             --------------  ----- \n",
      " 0   id                 5782 non-null   int64 \n",
      " 1   release_date       5782 non-null   object\n",
      " 2   movie              5782 non-null   object\n",
      " 3   production_budget  5782 non-null   object\n",
      " 4   domestic_gross     5782 non-null   object\n",
      " 5   worldwide_gross    5782 non-null   object\n",
      "dtypes: int64(1), object(5)\n",
      "memory usage: 271.2+ KB\n"
     ]
    },
    {
     "data": {
      "text/html": [
       "<div>\n",
       "<style scoped>\n",
       "    .dataframe tbody tr th:only-of-type {\n",
       "        vertical-align: middle;\n",
       "    }\n",
       "\n",
       "    .dataframe tbody tr th {\n",
       "        vertical-align: top;\n",
       "    }\n",
       "\n",
       "    .dataframe thead th {\n",
       "        text-align: right;\n",
       "    }\n",
       "</style>\n",
       "<table border=\"1\" class=\"dataframe\">\n",
       "  <thead>\n",
       "    <tr style=\"text-align: right;\">\n",
       "      <th></th>\n",
       "      <th>id</th>\n",
       "      <th>release_date</th>\n",
       "      <th>movie</th>\n",
       "      <th>production_budget</th>\n",
       "      <th>domestic_gross</th>\n",
       "      <th>worldwide_gross</th>\n",
       "    </tr>\n",
       "  </thead>\n",
       "  <tbody>\n",
       "    <tr>\n",
       "      <th>0</th>\n",
       "      <td>1</td>\n",
       "      <td>Dec 18, 2009</td>\n",
       "      <td>Avatar</td>\n",
       "      <td>$425,000,000</td>\n",
       "      <td>$760,507,625</td>\n",
       "      <td>$2,776,345,279</td>\n",
       "    </tr>\n",
       "    <tr>\n",
       "      <th>1</th>\n",
       "      <td>2</td>\n",
       "      <td>May 20, 2011</td>\n",
       "      <td>Pirates of the Caribbean: On Stranger Tides</td>\n",
       "      <td>$410,600,000</td>\n",
       "      <td>$241,063,875</td>\n",
       "      <td>$1,045,663,875</td>\n",
       "    </tr>\n",
       "    <tr>\n",
       "      <th>2</th>\n",
       "      <td>3</td>\n",
       "      <td>Jun 7, 2019</td>\n",
       "      <td>Dark Phoenix</td>\n",
       "      <td>$350,000,000</td>\n",
       "      <td>$42,762,350</td>\n",
       "      <td>$149,762,350</td>\n",
       "    </tr>\n",
       "    <tr>\n",
       "      <th>3</th>\n",
       "      <td>4</td>\n",
       "      <td>May 1, 2015</td>\n",
       "      <td>Avengers: Age of Ultron</td>\n",
       "      <td>$330,600,000</td>\n",
       "      <td>$459,005,868</td>\n",
       "      <td>$1,403,013,963</td>\n",
       "    </tr>\n",
       "    <tr>\n",
       "      <th>4</th>\n",
       "      <td>5</td>\n",
       "      <td>Dec 15, 2017</td>\n",
       "      <td>Star Wars Ep. VIII: The Last Jedi</td>\n",
       "      <td>$317,000,000</td>\n",
       "      <td>$620,181,382</td>\n",
       "      <td>$1,316,721,747</td>\n",
       "    </tr>\n",
       "  </tbody>\n",
       "</table>\n",
       "</div>"
      ],
      "text/plain": [
       "   id  release_date                                        movie  \\\n",
       "0   1  Dec 18, 2009                                       Avatar   \n",
       "1   2  May 20, 2011  Pirates of the Caribbean: On Stranger Tides   \n",
       "2   3   Jun 7, 2019                                 Dark Phoenix   \n",
       "3   4   May 1, 2015                      Avengers: Age of Ultron   \n",
       "4   5  Dec 15, 2017            Star Wars Ep. VIII: The Last Jedi   \n",
       "\n",
       "  production_budget domestic_gross worldwide_gross  \n",
       "0      $425,000,000   $760,507,625  $2,776,345,279  \n",
       "1      $410,600,000   $241,063,875  $1,045,663,875  \n",
       "2      $350,000,000    $42,762,350    $149,762,350  \n",
       "3      $330,600,000   $459,005,868  $1,403,013,963  \n",
       "4      $317,000,000   $620,181,382  $1,316,721,747  "
      ]
     },
     "metadata": {},
     "output_type": "display_data"
    }
   ],
   "source": [
    "# import our dataset, display info and head\n",
    "tn_movie_budgets = import_and_display(\"../data/raw/tn.movie_budgets.csv.bz2\")"
   ]
  },
  {
   "cell_type": "markdown",
   "metadata": {},
   "source": [
    "Our dataset doesn't look to have any issues, there are no known missing values, but we do have columns that should be numeric encoded as objects."
   ]
  },
  {
   "cell_type": "code",
   "execution_count": 5,
   "metadata": {
    "execution": {
     "iopub.execute_input": "2020-06-03T01:05:55.453690Z",
     "iopub.status.busy": "2020-06-03T01:05:55.453363Z",
     "iopub.status.idle": "2020-06-03T01:05:55.943199Z",
     "shell.execute_reply": "2020-06-03T01:05:55.942630Z",
     "shell.execute_reply.started": "2020-06-03T01:05:55.453649Z"
    }
   },
   "outputs": [],
   "source": [
    "# convert release_date to a datetime instance\n",
    "tn_movie_budgets.release_date = pd.to_datetime(tn_movie_budgets.release_date)"
   ]
  },
  {
   "cell_type": "code",
   "execution_count": 6,
   "metadata": {
    "execution": {
     "iopub.execute_input": "2020-06-03T01:05:55.944002Z",
     "iopub.status.busy": "2020-06-03T01:05:55.943860Z",
     "iopub.status.idle": "2020-06-03T01:05:55.993186Z",
     "shell.execute_reply": "2020-06-03T01:05:55.991988Z",
     "shell.execute_reply.started": "2020-06-03T01:05:55.943984Z"
    }
   },
   "outputs": [],
   "source": [
    "# convert our budget and gross columns to float\n",
    "cols_to_convert = ['production_budget', 'domestic_gross', 'worldwide_gross']\n",
    "result = tn_movie_budgets[cols_to_convert].applymap(currency_string_to_float)\n",
    "tn_movie_budgets[cols_to_convert] = result"
   ]
  },
  {
   "cell_type": "code",
   "execution_count": 7,
   "metadata": {
    "execution": {
     "iopub.execute_input": "2020-06-03T01:05:55.995308Z",
     "iopub.status.busy": "2020-06-03T01:05:55.995043Z",
     "iopub.status.idle": "2020-06-03T01:05:56.001414Z",
     "shell.execute_reply": "2020-06-03T01:05:56.000569Z",
     "shell.execute_reply.started": "2020-06-03T01:05:55.995270Z"
    }
   },
   "outputs": [],
   "source": [
    "# finally drop the id column\n",
    "tn_movie_budgets.drop(columns=\"id\", errors=\"ignore\", inplace=True)"
   ]
  },
  {
   "cell_type": "markdown",
   "metadata": {},
   "source": [
    "## tmdb.movies.csv.bz2"
   ]
  },
  {
   "cell_type": "code",
   "execution_count": 8,
   "metadata": {
    "execution": {
     "iopub.execute_input": "2020-06-03T01:05:56.002625Z",
     "iopub.status.busy": "2020-06-03T01:05:56.002381Z",
     "iopub.status.idle": "2020-06-03T01:05:56.272825Z",
     "shell.execute_reply": "2020-06-03T01:05:56.271975Z",
     "shell.execute_reply.started": "2020-06-03T01:05:56.002597Z"
    }
   },
   "outputs": [
    {
     "name": "stdout",
     "output_type": "stream",
     "text": [
      "<class 'pandas.core.frame.DataFrame'>\n",
      "RangeIndex: 26517 entries, 0 to 26516\n",
      "Data columns (total 10 columns):\n",
      " #   Column             Non-Null Count  Dtype  \n",
      "---  ------             --------------  -----  \n",
      " 0   Unnamed: 0         26517 non-null  int64  \n",
      " 1   genre_ids          26517 non-null  object \n",
      " 2   id                 26517 non-null  int64  \n",
      " 3   original_language  26517 non-null  object \n",
      " 4   original_title     26517 non-null  object \n",
      " 5   popularity         26517 non-null  float64\n",
      " 6   release_date       26517 non-null  object \n",
      " 7   title              26517 non-null  object \n",
      " 8   vote_average       26517 non-null  float64\n",
      " 9   vote_count         26517 non-null  int64  \n",
      "dtypes: float64(2), int64(3), object(5)\n",
      "memory usage: 2.0+ MB\n"
     ]
    },
    {
     "data": {
      "text/html": [
       "<div>\n",
       "<style scoped>\n",
       "    .dataframe tbody tr th:only-of-type {\n",
       "        vertical-align: middle;\n",
       "    }\n",
       "\n",
       "    .dataframe tbody tr th {\n",
       "        vertical-align: top;\n",
       "    }\n",
       "\n",
       "    .dataframe thead th {\n",
       "        text-align: right;\n",
       "    }\n",
       "</style>\n",
       "<table border=\"1\" class=\"dataframe\">\n",
       "  <thead>\n",
       "    <tr style=\"text-align: right;\">\n",
       "      <th></th>\n",
       "      <th>Unnamed: 0</th>\n",
       "      <th>genre_ids</th>\n",
       "      <th>id</th>\n",
       "      <th>original_language</th>\n",
       "      <th>original_title</th>\n",
       "      <th>popularity</th>\n",
       "      <th>release_date</th>\n",
       "      <th>title</th>\n",
       "      <th>vote_average</th>\n",
       "      <th>vote_count</th>\n",
       "    </tr>\n",
       "  </thead>\n",
       "  <tbody>\n",
       "    <tr>\n",
       "      <th>0</th>\n",
       "      <td>0</td>\n",
       "      <td>[12, 14, 10751]</td>\n",
       "      <td>12444</td>\n",
       "      <td>en</td>\n",
       "      <td>Harry Potter and the Deathly Hallows: Part 1</td>\n",
       "      <td>33.533</td>\n",
       "      <td>2010-11-19</td>\n",
       "      <td>Harry Potter and the Deathly Hallows: Part 1</td>\n",
       "      <td>7.7</td>\n",
       "      <td>10788</td>\n",
       "    </tr>\n",
       "    <tr>\n",
       "      <th>1</th>\n",
       "      <td>1</td>\n",
       "      <td>[14, 12, 16, 10751]</td>\n",
       "      <td>10191</td>\n",
       "      <td>en</td>\n",
       "      <td>How to Train Your Dragon</td>\n",
       "      <td>28.734</td>\n",
       "      <td>2010-03-26</td>\n",
       "      <td>How to Train Your Dragon</td>\n",
       "      <td>7.7</td>\n",
       "      <td>7610</td>\n",
       "    </tr>\n",
       "    <tr>\n",
       "      <th>2</th>\n",
       "      <td>2</td>\n",
       "      <td>[12, 28, 878]</td>\n",
       "      <td>10138</td>\n",
       "      <td>en</td>\n",
       "      <td>Iron Man 2</td>\n",
       "      <td>28.515</td>\n",
       "      <td>2010-05-07</td>\n",
       "      <td>Iron Man 2</td>\n",
       "      <td>6.8</td>\n",
       "      <td>12368</td>\n",
       "    </tr>\n",
       "    <tr>\n",
       "      <th>3</th>\n",
       "      <td>3</td>\n",
       "      <td>[16, 35, 10751]</td>\n",
       "      <td>862</td>\n",
       "      <td>en</td>\n",
       "      <td>Toy Story</td>\n",
       "      <td>28.005</td>\n",
       "      <td>1995-11-22</td>\n",
       "      <td>Toy Story</td>\n",
       "      <td>7.9</td>\n",
       "      <td>10174</td>\n",
       "    </tr>\n",
       "    <tr>\n",
       "      <th>4</th>\n",
       "      <td>4</td>\n",
       "      <td>[28, 878, 12]</td>\n",
       "      <td>27205</td>\n",
       "      <td>en</td>\n",
       "      <td>Inception</td>\n",
       "      <td>27.920</td>\n",
       "      <td>2010-07-16</td>\n",
       "      <td>Inception</td>\n",
       "      <td>8.3</td>\n",
       "      <td>22186</td>\n",
       "    </tr>\n",
       "  </tbody>\n",
       "</table>\n",
       "</div>"
      ],
      "text/plain": [
       "   Unnamed: 0            genre_ids     id original_language  \\\n",
       "0           0      [12, 14, 10751]  12444                en   \n",
       "1           1  [14, 12, 16, 10751]  10191                en   \n",
       "2           2        [12, 28, 878]  10138                en   \n",
       "3           3      [16, 35, 10751]    862                en   \n",
       "4           4        [28, 878, 12]  27205                en   \n",
       "\n",
       "                                 original_title  popularity release_date  \\\n",
       "0  Harry Potter and the Deathly Hallows: Part 1      33.533   2010-11-19   \n",
       "1                      How to Train Your Dragon      28.734   2010-03-26   \n",
       "2                                    Iron Man 2      28.515   2010-05-07   \n",
       "3                                     Toy Story      28.005   1995-11-22   \n",
       "4                                     Inception      27.920   2010-07-16   \n",
       "\n",
       "                                          title  vote_average  vote_count  \n",
       "0  Harry Potter and the Deathly Hallows: Part 1           7.7       10788  \n",
       "1                      How to Train Your Dragon           7.7        7610  \n",
       "2                                    Iron Man 2           6.8       12368  \n",
       "3                                     Toy Story           7.9       10174  \n",
       "4                                     Inception           8.3       22186  "
      ]
     },
     "metadata": {},
     "output_type": "display_data"
    }
   ],
   "source": [
    "# import our dataset, display info and head\n",
    "tmdb_movies = import_and_display(\"../data/raw/tmdb.movies.csv.bz2\")"
   ]
  },
  {
   "cell_type": "markdown",
   "metadata": {},
   "source": [
    "For this dataset we really only need to keep the release data, and a key to join on. We'll convert the release_date\n",
    "to a datetime object and then drop the unnecessary columns."
   ]
  },
  {
   "cell_type": "code",
   "execution_count": 9,
   "metadata": {
    "execution": {
     "iopub.execute_input": "2020-06-03T01:05:56.275988Z",
     "iopub.status.busy": "2020-06-03T01:05:56.275620Z",
     "iopub.status.idle": "2020-06-03T01:05:56.287087Z",
     "shell.execute_reply": "2020-06-03T01:05:56.286064Z",
     "shell.execute_reply.started": "2020-06-03T01:05:56.275949Z"
    }
   },
   "outputs": [],
   "source": [
    "# keep only original_title and title, and release date\n",
    "keep_cols = ['original_title', 'title', 'release_date']\n",
    "tmdb_movies = tmdb_movies[keep_cols]"
   ]
  },
  {
   "cell_type": "code",
   "execution_count": 10,
   "metadata": {
    "execution": {
     "iopub.execute_input": "2020-06-03T01:05:56.289046Z",
     "iopub.status.busy": "2020-06-03T01:05:56.288680Z",
     "iopub.status.idle": "2020-06-03T01:05:56.305196Z",
     "shell.execute_reply": "2020-06-03T01:05:56.304419Z",
     "shell.execute_reply.started": "2020-06-03T01:05:56.289006Z"
    }
   },
   "outputs": [],
   "source": [
    "# convert our datetime column\n",
    "tmdb_movies.release_date = pd.to_datetime(tmdb_movies.release_date)"
   ]
  },
  {
   "cell_type": "code",
   "execution_count": 11,
   "metadata": {
    "execution": {
     "iopub.execute_input": "2020-06-03T01:05:56.306404Z",
     "iopub.status.busy": "2020-06-03T01:05:56.306194Z",
     "iopub.status.idle": "2020-06-03T01:05:56.314593Z",
     "shell.execute_reply": "2020-06-03T01:05:56.313376Z",
     "shell.execute_reply.started": "2020-06-03T01:05:56.306379Z"
    }
   },
   "outputs": [
    {
     "name": "stdout",
     "output_type": "stream",
     "text": [
      "Movies with title change: 9.59%\n"
     ]
    }
   ],
   "source": [
    "# are all original titles the same as title\n",
    "title_change_movies = tmdb_movies.original_title != tmdb_movies.title\n",
    "print(f\"Movies with title change: {title_change_movies.sum()/tmdb_movies.shape[0]:.2%}\")"
   ]
  },
  {
   "cell_type": "markdown",
   "metadata": {},
   "source": [
    "One way we can deal with this is by creating a new dataframe with only one title column and release date, and then removing duplicates.\n",
    "This'll allow us to retain as much data as possible."
   ]
  },
  {
   "cell_type": "code",
   "execution_count": 12,
   "metadata": {
    "execution": {
     "iopub.execute_input": "2020-06-03T01:05:56.318052Z",
     "iopub.status.busy": "2020-06-03T01:05:56.317324Z",
     "iopub.status.idle": "2020-06-03T01:05:57.376630Z",
     "shell.execute_reply": "2020-06-03T01:05:57.375693Z",
     "shell.execute_reply.started": "2020-06-03T01:05:56.317992Z"
    }
   },
   "outputs": [
    {
     "name": "stdout",
     "output_type": "stream",
     "text": [
      "Exploded Size: 53034\n"
     ]
    }
   ],
   "source": [
    "# combine our two title columns, exlode them\n",
    "tmdb_movies[\"title_tup\"] = tmdb_movies.apply(lambda row: (row[0], row[1]), axis=1)\n",
    "tmdb_movies = tmdb_movies.explode(\"title_tup\")[[\"title_tup\", \"release_date\"]]\n",
    "print(f\"Exploded Size: {tmdb_movies.shape[0]:g}\")"
   ]
  },
  {
   "cell_type": "code",
   "execution_count": 13,
   "metadata": {
    "execution": {
     "iopub.execute_input": "2020-06-03T01:05:57.378386Z",
     "iopub.status.busy": "2020-06-03T01:05:57.377837Z",
     "iopub.status.idle": "2020-06-03T01:05:57.411198Z",
     "shell.execute_reply": "2020-06-03T01:05:57.410337Z",
     "shell.execute_reply.started": "2020-06-03T01:05:57.378320Z"
    }
   },
   "outputs": [],
   "source": [
    "# drop duplicates and rename columns\n",
    "tmdb_movies.drop_duplicates(inplace=True)\n",
    "tmdb_movies.rename(columns={\"title_tup\": \"title\"}, inplace=True)"
   ]
  }
 ],
 "metadata": {
  "kernelspec": {
   "display_name": "Python [conda env:movie-industry]",
   "language": "python",
   "name": "conda-env-movie-industry-py"
  },
  "language_info": {
   "codemirror_mode": {
    "name": "ipython",
    "version": 3
   },
   "file_extension": ".py",
   "mimetype": "text/x-python",
   "name": "python",
   "nbconvert_exporter": "python",
   "pygments_lexer": "ipython3",
   "version": "3.8.3"
  },
  "widgets": {
   "application/vnd.jupyter.widget-state+json": {
    "state": {},
    "version_major": 2,
    "version_minor": 0
   }
  }
 },
 "nbformat": 4,
 "nbformat_minor": 4
}
