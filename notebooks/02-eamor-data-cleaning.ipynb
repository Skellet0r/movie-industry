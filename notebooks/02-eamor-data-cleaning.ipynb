{
 "cells": [
  {
   "cell_type": "markdown",
   "metadata": {},
   "source": [
    "# Data Cleaning"
   ]
  },
  {
   "cell_type": "markdown",
   "metadata": {},
   "source": [
    "The following are the features of the movie industry we will be exploring\n",
    "along with the datasets that are needed to analyze them:\n",
    "\n",
    "- Genre: `imdb.title.basics.csv.bz2`\n",
    "- Runtime: `imdb.title.basics.csv.bz2`\n",
    "- Budget Allocation: `tn.movie_budgets.csv.bz2`\n",
    "- Release Window: `tn.movie_budgets.csv.bz2`, `tmdb.movies.csv.bz2`\n",
    "- Director: `imdb.title.crew.csv.bz2`, `imdb.name.basics.csv.bz2`"
   ]
  },
  {
   "cell_type": "markdown",
   "metadata": {},
   "source": [
    "Consolidated the list of datasets is:\n",
    "\n",
    "- `tn.movie_budgets.csv.bz2`\n",
    "- `tmdb.movies.csv.bz2`\n",
    "- `imdb.title.crew.csv.bz2`\n",
    "- `imdb.name.basics.csv.bz2`\n",
    "- `imdb.title.basics.csv.bz2`"
   ]
  },
  {
   "cell_type": "markdown",
   "metadata": {},
   "source": [
    "Our methodology will be as follows for each dataset:\n",
    "\n",
    "1. Identify wrongly encoded data types\n",
    "2. Impute/Drop missing values\n",
    "3. Drop columns which aren't required\n",
    "\n",
    "Finally we will try to unify our datasets into one csv file for simple loading."
   ]
  },
  {
   "cell_type": "code",
   "execution_count": null,
   "metadata": {},
   "outputs": [],
   "source": [
    "# filter out warnings\n",
    "from warnings import filterwarnings\n",
    "filterwarnings(\"ignore\")"
   ]
  },
  {
   "cell_type": "code",
   "execution_count": 2,
   "metadata": {
    "execution": {
     "iopub.status.idle": "2020-06-03T00:31:00.061543Z",
     "shell.execute_reply": "2020-06-03T00:31:00.060941Z",
     "shell.execute_reply.started": "2020-06-03T00:30:59.833977Z"
    }
   },
   "outputs": [],
   "source": [
    "# import our required libraries\n",
    "import pandas as pd\n",
    "import numpy as np\n",
    "from src.tools import currency_string_to_float"
   ]
  },
  {
   "cell_type": "markdown",
   "metadata": {},
   "source": [
    "## tn.movie_budgets.csv.bz2"
   ]
  },
  {
   "cell_type": "code",
   "execution_count": 3,
   "metadata": {
    "execution": {
     "iopub.execute_input": "2020-06-03T00:31:00.062724Z",
     "iopub.status.busy": "2020-06-03T00:31:00.062560Z",
     "iopub.status.idle": "2020-06-03T00:31:00.134211Z",
     "shell.execute_reply": "2020-06-03T00:31:00.133290Z",
     "shell.execute_reply.started": "2020-06-03T00:31:00.062704Z"
    }
   },
   "outputs": [
    {
     "name": "stdout",
     "output_type": "stream",
     "text": [
      "<class 'pandas.core.frame.DataFrame'>\n",
      "RangeIndex: 5782 entries, 0 to 5781\n",
      "Data columns (total 6 columns):\n",
      " #   Column             Non-Null Count  Dtype \n",
      "---  ------             --------------  ----- \n",
      " 0   id                 5782 non-null   int64 \n",
      " 1   release_date       5782 non-null   object\n",
      " 2   movie              5782 non-null   object\n",
      " 3   production_budget  5782 non-null   object\n",
      " 4   domestic_gross     5782 non-null   object\n",
      " 5   worldwide_gross    5782 non-null   object\n",
      "dtypes: int64(1), object(5)\n",
      "memory usage: 271.2+ KB\n"
     ]
    },
    {
     "data": {
      "text/html": [
       "<div>\n",
       "<style scoped>\n",
       "    .dataframe tbody tr th:only-of-type {\n",
       "        vertical-align: middle;\n",
       "    }\n",
       "\n",
       "    .dataframe tbody tr th {\n",
       "        vertical-align: top;\n",
       "    }\n",
       "\n",
       "    .dataframe thead th {\n",
       "        text-align: right;\n",
       "    }\n",
       "</style>\n",
       "<table border=\"1\" class=\"dataframe\">\n",
       "  <thead>\n",
       "    <tr style=\"text-align: right;\">\n",
       "      <th></th>\n",
       "      <th>id</th>\n",
       "      <th>release_date</th>\n",
       "      <th>movie</th>\n",
       "      <th>production_budget</th>\n",
       "      <th>domestic_gross</th>\n",
       "      <th>worldwide_gross</th>\n",
       "    </tr>\n",
       "  </thead>\n",
       "  <tbody>\n",
       "    <tr>\n",
       "      <th>0</th>\n",
       "      <td>1</td>\n",
       "      <td>Dec 18, 2009</td>\n",
       "      <td>Avatar</td>\n",
       "      <td>$425,000,000</td>\n",
       "      <td>$760,507,625</td>\n",
       "      <td>$2,776,345,279</td>\n",
       "    </tr>\n",
       "    <tr>\n",
       "      <th>1</th>\n",
       "      <td>2</td>\n",
       "      <td>May 20, 2011</td>\n",
       "      <td>Pirates of the Caribbean: On Stranger Tides</td>\n",
       "      <td>$410,600,000</td>\n",
       "      <td>$241,063,875</td>\n",
       "      <td>$1,045,663,875</td>\n",
       "    </tr>\n",
       "    <tr>\n",
       "      <th>2</th>\n",
       "      <td>3</td>\n",
       "      <td>Jun 7, 2019</td>\n",
       "      <td>Dark Phoenix</td>\n",
       "      <td>$350,000,000</td>\n",
       "      <td>$42,762,350</td>\n",
       "      <td>$149,762,350</td>\n",
       "    </tr>\n",
       "    <tr>\n",
       "      <th>3</th>\n",
       "      <td>4</td>\n",
       "      <td>May 1, 2015</td>\n",
       "      <td>Avengers: Age of Ultron</td>\n",
       "      <td>$330,600,000</td>\n",
       "      <td>$459,005,868</td>\n",
       "      <td>$1,403,013,963</td>\n",
       "    </tr>\n",
       "    <tr>\n",
       "      <th>4</th>\n",
       "      <td>5</td>\n",
       "      <td>Dec 15, 2017</td>\n",
       "      <td>Star Wars Ep. VIII: The Last Jedi</td>\n",
       "      <td>$317,000,000</td>\n",
       "      <td>$620,181,382</td>\n",
       "      <td>$1,316,721,747</td>\n",
       "    </tr>\n",
       "  </tbody>\n",
       "</table>\n",
       "</div>"
      ],
      "text/plain": [
       "   id  release_date                                        movie  \\\n",
       "0   1  Dec 18, 2009                                       Avatar   \n",
       "1   2  May 20, 2011  Pirates of the Caribbean: On Stranger Tides   \n",
       "2   3   Jun 7, 2019                                 Dark Phoenix   \n",
       "3   4   May 1, 2015                      Avengers: Age of Ultron   \n",
       "4   5  Dec 15, 2017            Star Wars Ep. VIII: The Last Jedi   \n",
       "\n",
       "  production_budget domestic_gross worldwide_gross  \n",
       "0      $425,000,000   $760,507,625  $2,776,345,279  \n",
       "1      $410,600,000   $241,063,875  $1,045,663,875  \n",
       "2      $350,000,000    $42,762,350    $149,762,350  \n",
       "3      $330,600,000   $459,005,868  $1,403,013,963  \n",
       "4      $317,000,000   $620,181,382  $1,316,721,747  "
      ]
     },
     "metadata": {},
     "output_type": "display_data"
    }
   ],
   "source": [
    "# import our dataset, display info and head\n",
    "tn_movie_budgets = pd.read_csv(\"../data/raw/tn.movie_budgets.csv.bz2\")\n",
    "tn_movie_budgets.info()\n",
    "display(tn_movie_budgets.head())"
   ]
  },
  {
   "cell_type": "markdown",
   "metadata": {},
   "source": [
    "Our dataset doesn't look to have any issues, there are no known missing values, but we do have columns that should be numeric encoded as objects."
   ]
  },
  {
   "cell_type": "code",
   "execution_count": 4,
   "metadata": {
    "execution": {
     "iopub.execute_input": "2020-06-03T00:31:00.135684Z",
     "iopub.status.busy": "2020-06-03T00:31:00.135466Z",
     "iopub.status.idle": "2020-06-03T00:31:00.719981Z",
     "shell.execute_reply": "2020-06-03T00:31:00.719211Z",
     "shell.execute_reply.started": "2020-06-03T00:31:00.135658Z"
    }
   },
   "outputs": [],
   "source": [
    "# convert release_date to a datetime instance\n",
    "tn_movie_budgets.release_date = pd.to_datetime(tn_movie_budgets.release_date)"
   ]
  },
  {
   "cell_type": "code",
   "execution_count": 5,
   "metadata": {
    "execution": {
     "iopub.execute_input": "2020-06-03T00:31:00.721279Z",
     "iopub.status.busy": "2020-06-03T00:31:00.721088Z",
     "iopub.status.idle": "2020-06-03T00:31:00.793404Z",
     "shell.execute_reply": "2020-06-03T00:31:00.792730Z",
     "shell.execute_reply.started": "2020-06-03T00:31:00.721256Z"
    }
   },
   "outputs": [],
   "source": [
    "# convert our budget and gross columns to float\n",
    "cols_to_convert = ['production_budget', 'domestic_gross', 'worldwide_gross']\n",
    "result = tn_movie_budgets[cols_to_convert].applymap(currency_string_to_float)\n",
    "tn_movie_budgets[cols_to_convert] = result"
   ]
  },
  {
   "cell_type": "code",
   "execution_count": 6,
   "metadata": {
    "execution": {
     "iopub.execute_input": "2020-06-03T00:23:38.282582Z",
     "iopub.status.busy": "2020-06-03T00:23:38.282344Z",
     "iopub.status.idle": "2020-06-03T00:23:38.287957Z",
     "shell.execute_reply": "2020-06-03T00:23:38.287328Z",
     "shell.execute_reply.started": "2020-06-03T00:23:38.282555Z"
    }
   },
   "outputs": [],
   "source": [
    "# finally drop the id column\n",
    "tn_movie_budgets.drop(columns=\"id\", errors=\"ignore\", inplace=True)"
   ]
  }
 ],
 "metadata": {
  "kernelspec": {
   "display_name": "Python [conda env:movie-industry]",
   "language": "python",
   "name": "conda-env-movie-industry-py"
  },
  "language_info": {
   "codemirror_mode": {
    "name": "ipython",
    "version": 3
   },
   "file_extension": ".py",
   "mimetype": "text/x-python",
   "name": "python",
   "nbconvert_exporter": "python",
   "pygments_lexer": "ipython3",
   "version": "3.8.3"
  },
  "widgets": {
   "application/vnd.jupyter.widget-state+json": {
    "state": {},
    "version_major": 2,
    "version_minor": 0
   }
  }
 },
 "nbformat": 4,
 "nbformat_minor": 4
}
